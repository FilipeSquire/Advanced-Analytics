{
  "nbformat": 4,
  "nbformat_minor": 0,
  "metadata": {
    "kernelspec": {
      "display_name": "Python 3",
      "language": "python",
      "name": "python3"
    },
    "language_info": {
      "codemirror_mode": {
        "name": "ipython",
        "version": 3
      },
      "file_extension": ".py",
      "mimetype": "text/x-python",
      "name": "python",
      "nbconvert_exporter": "python",
      "pygments_lexer": "ipython3",
      "version": "3.8.5"
    },
    "colab": {
      "name": "ClusteringExample.ipynb",
      "provenance": [],
      "include_colab_link": true
    }
  },
  "cells": [
    {
      "cell_type": "markdown",
      "metadata": {
        "id": "view-in-github",
        "colab_type": "text"
      },
      "source": [
        "<a href=\"https://colab.research.google.com/github/FilipeSquire/Advanced-Analytics/blob/main/ClusteringExample.ipynb\" target=\"_parent\"><img src=\"https://colab.research.google.com/assets/colab-badge.svg\" alt=\"Open In Colab\"/></a>"
      ]
    },
    {
      "cell_type": "code",
      "metadata": {
        "id": "34D7vLAssoxf"
      },
      "source": [
        "!pip install xlrd\n",
        "import pandas as pd\n",
        "import matplotlib.pyplot as plt\n",
        "import numpy as np"
      ],
      "execution_count": null,
      "outputs": []
    },
    {
      "cell_type": "code",
      "metadata": {
        "id": "8ggNqfsUsoxn",
        "outputId": "cf60d3f0-9aa9-4e4c-b3c7-cdc7355b9f18"
      },
      "source": [
        "#Importing the dataset\n",
        "#In order for this code to work, you must use the data provided at the following link: \n",
        "#https://drive.google.com/file/d/1ZgnRMAovrHpBT3FQfs3URdpwz0nE4pLj/view?usp=sharing\n",
        "dataset = pd.read_excel(\"INSERT PATH TO FILE\")\n",
        "dataset = dataset[dataset['CustomerID'].notna()] #Excluding null lines"
      ],
      "execution_count": null,
      "outputs": [
        {
          "output_type": "execute_result",
          "data": {
            "text/plain": [
              "pandas.core.frame.DataFrame"
            ]
          },
          "metadata": {
            "tags": []
          },
          "execution_count": 5
        }
      ]
    },
    {
      "cell_type": "code",
      "metadata": {
        "id": "rbJr26lwsoxo"
      },
      "source": [
        "#Taking a sample\n",
        "ds2 = dataset.sample(10000, random_state = 42)"
      ],
      "execution_count": null,
      "outputs": []
    },
    {
      "cell_type": "markdown",
      "metadata": {
        "id": "BUEb6nWPsoxo"
      },
      "source": [
        "##Segmentin the customer via RFM\n",
        "##It means: \n",
        "##Recency = how long ago the customer made his last purchase\n",
        "##Frequency = how often the customer buys the product\n",
        "#money = how much he pays"
      ]
    },
    {
      "cell_type": "markdown",
      "metadata": {
        "id": "-UtfBUyqsoxp"
      },
      "source": [
        "# Data Treatment"
      ]
    },
    {
      "cell_type": "code",
      "metadata": {
        "id": "L1MwQUDXsoxp"
      },
      "source": [
        "#transform date-time into date\n",
        "ds2['InvoiceDate'] = ds2['InvoiceDate'].dt.date"
      ],
      "execution_count": null,
      "outputs": []
    },
    {
      "cell_type": "code",
      "metadata": {
        "id": "Ilyeu4zOsoxq"
      },
      "source": [
        "#TotalSum column\n",
        "ds2['TotalSum'] = ds2['Quantity'] * ds2['UnitPrice']"
      ],
      "execution_count": null,
      "outputs": []
    },
    {
      "cell_type": "code",
      "metadata": {
        "id": "AcYFSDBCsoxq"
      },
      "source": [
        "#Recording recency\n",
        "import datetime\n",
        "snap_date = max(ds2.InvoiceDate) + datetime.timedelta(days=1)"
      ],
      "execution_count": null,
      "outputs": []
    },
    {
      "cell_type": "code",
      "metadata": {
        "id": "BSlBO-w_soxq"
      },
      "source": [
        "#Aggregating snap date by customer\n",
        "\n",
        "customers = ds2.groupby(['CustomerID']).agg({\n",
        "    'InvoiceDate': lambda x: (snap_date - x.max()).days,\n",
        "    'InvoiceNo': 'count',\n",
        "    'TotalSum': 'sum'\n",
        "})"
      ],
      "execution_count": null,
      "outputs": []
    },
    {
      "cell_type": "code",
      "metadata": {
        "id": "RNKqi7O1soxr"
      },
      "source": [
        "#Renaming columns\n",
        "customers.rename(columns = {'InvoiceDate': 'Recency',\n",
        "                           'InvoiceNo': 'Frequency',\n",
        "                           'TotalSum': 'MonetaryValue'},\n",
        "                inplace=True)"
      ],
      "execution_count": null,
      "outputs": []
    },
    {
      "cell_type": "code",
      "metadata": {
        "id": "BKJJOUAfsoxr"
      },
      "source": [
        "customers"
      ],
      "execution_count": null,
      "outputs": []
    },
    {
      "cell_type": "markdown",
      "metadata": {
        "id": "Vn99MR8Bsoxr"
      },
      "source": [
        "# Stablishing standards"
      ]
    },
    {
      "cell_type": "code",
      "metadata": {
        "id": "SZU3CJdJsoxs"
      },
      "source": [
        "## The data cannot be skewed and must have the save mean and variance ##"
      ],
      "execution_count": null,
      "outputs": []
    },
    {
      "cell_type": "code",
      "metadata": {
        "collapsed": true,
        "id": "r_QP8wY3soxs",
        "outputId": "84e183fb-a9fa-49ba-bb64-b7361a4d5f70"
      },
      "source": [
        "import seaborn as sn\n",
        "\n",
        "#The recency graph will show a huge concentration of data between 0-50 days\n",
        "sn.displot(customers['Recency']) \n",
        "\n",
        "#The Frequency graph shows that theres a huge concentration of data close to 0 days, but the data\n",
        "#needs to be treated in order to have a greater insight\n",
        "sn.displot(customers['Frequency']) \n",
        "\n",
        "#No insights can be taken without a data cleasing\n",
        "sn.displot(customers['MonetaryValue'])"
      ],
      "execution_count": null,
      "outputs": [
        {
          "output_type": "execute_result",
          "data": {
            "text/plain": [
              "<seaborn.axisgrid.FacetGrid at 0x1e6cc49c340>"
            ]
          },
          "metadata": {
            "tags": []
          },
          "execution_count": 37
        },
        {
          "output_type": "display_data",
          "data": {
            "image/png": "[encoded data removed]",
            "text/plain": [
              "<Figure size 360x360 with 1 Axes>"
            ]
          },
          "metadata": {
            "tags": [],
            "needs_background": "light"
          }
        },
        {
          "output_type": "display_data",
          "data": {
            "image/png": "[encoded data removed]",
            "text/plain": [
              "<Figure size 360x360 with 1 Axes>"
            ]
          },
          "metadata": {
            "tags": [],
            "needs_background": "light"
          }
        },
        {
          "output_type": "display_data",
          "data": {
            "image/png": "[encoded data removed]",
            "text/plain": [
              "<Figure size 360x360 with 1 Axes>"
            ]
          },
          "metadata": {
            "tags": [],
            "needs_background": "light"
          }
        }
      ]
    },
    {
      "cell_type": "code",
      "metadata": {
        "id": "L1K-2J5Vsoxs"
      },
      "source": [
        "#Because of the distorted visualization in the graphs above, a easier way to actually get some insight\n",
        "# we must transform the values\n",
        "from scipy import stats\n",
        "import matplotlib.pyplot as plt\n",
        "\n",
        "#This function will use skew() which will treat the data by eliminating possible bias\n",
        "def analyze_skewness(x):\n",
        "    fig, ax = plt.subplots(2,2,figsize=(5,5))\n",
        "    sn.distplot(customers[x], ax=ax[0,0])\n",
        "    sn.distplot(np.log(customers[x]), ax=ax[0,1])\n",
        "    sn.distplot(np.sqrt(customers[x]), ax=ax[1,0])\n",
        "    sn.distplot(stats.boxcox(customers[x])[0], ax=ax[1,1])\n",
        "    plt.tight_layout()\n",
        "    plt.show()\n",
        "    \n",
        "    print(customers[x].skew().round(2))\n",
        "    print(np.log(customers[x]).skew().round(2))\n",
        "    print(np.sqrt(customers[x]).skew().round(2))\n",
        "    print(pd.Series(stats.boxcox(customers[x])[0]).skew().round(2))"
      ],
      "execution_count": null,
      "outputs": []
    },
    {
      "cell_type": "code",
      "metadata": {
        "id": "6Fvz79bYsoxt"
      },
      "source": [
        "analyze_skewness('Recency')\n",
        "analyze_skewness('Frequency')"
      ],
      "execution_count": null,
      "outputs": []
    },
    {
      "cell_type": "code",
      "metadata": {
        "id": "-voC_pP7soxt"
      },
      "source": [
        "#          Without  Log   Sqrt   Box-cox\n",
        "# Recency  14.77    0.85  3.67   0.16\n",
        "# Frequen  0.93    -0.72  0.32  -0.1\n",
        "# the closer the value is to 0 less skew it will be\n",
        "# therefore we will continue with the box values"
      ],
      "execution_count": null,
      "outputs": []
    },
    {
      "cell_type": "code",
      "metadata": {
        "id": "PwUhSxg_soxu"
      },
      "source": [
        "#We cant use negative values in our analysis in this point so we have to transform it\n",
        "#in order to do that we will use cubic root transformation\n",
        "#Down here we will have a comparison between the data with and without cubic root\n",
        "fig, ax = plt.subplots(1,2,figsize=(10,3))\n",
        "sn.distplot(customers['MonetaryValue'], ax=ax[0])\n",
        "sn.distplot(np.cbrt(customers['MonetaryValue']), ax=ax[1])\n",
        "plt.show()\n",
        "print(customers['MonetaryValue'].skew().round(2))\n",
        "print(np.cbrt(customers['MonetaryValue']).skew().round(2))"
      ],
      "execution_count": null,
      "outputs": []
    },
    {
      "cell_type": "code",
      "metadata": {
        "id": "-Sy2_9F6soxu"
      },
      "source": [
        "#From left to right, without and with cubic root respectively, we see that the skew value\n",
        "#declined from 16 to 1\n",
        "\n",
        "#Using the info discovered we must now apply these findings into our dataset"
      ],
      "execution_count": null,
      "outputs": []
    },
    {
      "cell_type": "code",
      "metadata": {
        "id": "nY38kdMxsoxu"
      },
      "source": [
        "dts2 = pd.DataFrame()\n",
        "dts2['Recency'] = stats.boxcox(customers['Recency'])[0]\n",
        "dts2['Frequency'] = stats.boxcox(customers['Frequency'])[0]\n",
        "dts2['MonetaryValue'] = pd.Series(np.cbrt(customers['MonetaryValue'])).values\n",
        "dts2.tail()"
      ],
      "execution_count": null,
      "outputs": []
    },
    {
      "cell_type": "code",
      "metadata": {
        "id": "QwHQ_A8jsoxv"
      },
      "source": [
        "#Normalizing the data\n",
        "\n",
        "from sklearn.preprocessing import StandardScaler\n",
        "\n",
        "#Initialize object\n",
        "scaler = StandardScaler()\n",
        "\n",
        "#Fit and transform\n",
        "scaler.fit(dts2)\n",
        "dts2_normalized = scaler.transform(dts2)\n",
        "\n",
        "#Assert that it has mean 0 and variance 1\n",
        "print(dts2_normalized.mean(axis=0).round(2)) #[0. -0. 0]\n",
        "print(dts2_normalized.std(axis=0).round(20)) #[1. 1. 1]\n",
        "\n",
        "dts2_normalized"
      ],
      "execution_count": null,
      "outputs": []
    },
    {
      "cell_type": "markdown",
      "metadata": {
        "id": "r3JjCRj0soxv"
      },
      "source": [
        "# MODELLING"
      ]
    },
    {
      "cell_type": "code",
      "metadata": {
        "id": "w-R0Nvnssoxv"
      },
      "source": [
        "#K-MEANS MODEL\n",
        "\n",
        "# >> Unsupervised Learning - it means that the algorithm will determ the classification by itself\n",
        "# The K-means is a geometrical form to determine which clusters we'll have.\n",
        "# We calculate the distance to each centroid, and each data belongs to a centroid doesnt matter\n",
        "# the distance from the other. The calculations repeats itself until the next TOTAL DISTANCE doesnt\n",
        "# have significant changes than before\n",
        "\n",
        "# We will use the k-means model from scikit-learn library but to increase its performance we must use\n",
        "# a hyperparameter and it must be determined by us. To determine which is the best, we will use the\n",
        "# elbow method to decide."
      ],
      "execution_count": null,
      "outputs": []
    },
    {
      "cell_type": "code",
      "metadata": {
        "id": "ao8utT-Esoxw"
      },
      "source": [
        "#What is an elbow method? The elbow method consists in picking the elbow of the curve as the number of clusters to be used."
      ],
      "execution_count": null,
      "outputs": []
    },
    {
      "cell_type": "code",
      "metadata": {
        "id": "5Vwk8LDCsoxw"
      },
      "source": [
        "from sklearn.cluster import KMeans\n",
        "\n",
        "sse = {}\n",
        "for k in range(1,11):\n",
        "    kmeans = KMeans(n_clusters=k,random_state=42)\n",
        "    kmeans.fit(dts2_normalized)\n",
        "    sse[k] = kmeans.inertia_ #SSE to closest cluster centroid\n",
        "\n",
        "    plt.title('The Elbow Method')\n",
        "    plt.xlabel('k')\n",
        "    plt.ylabel('SSE')\n",
        "    sn.pointplot(x=list(sse.keys()), y=list(sse.values()))\n",
        "    plt.show()"
      ],
      "execution_count": null,
      "outputs": []
    },
    {
      "cell_type": "code",
      "metadata": {
        "id": "WdN-g30Usoxx"
      },
      "source": [
        "#SSE is y-axis and k is the x-axis. What does SSE means? What does K means?\n",
        "#We take the parameter where the k-value will have a linear trend on the next consecutive k\n",
        "#Therefore we will pick 3 for our model because the next k-value tend to have a linear trend.\n",
        "#So we will have 3 clusters"
      ],
      "execution_count": null,
      "outputs": []
    },
    {
      "cell_type": "code",
      "metadata": {
        "id": "oJiTYOBNsoxx",
        "outputId": "646a0956-cd29-4243-8681-eae296e1d93e"
      },
      "source": [
        "#Now we will fit our model with the code\n",
        "\n",
        "model = KMeans(n_clusters=3, random_state=42)\n",
        "model.fit(dts2_normalized)\n",
        "model.labels_.shape"
      ],
      "execution_count": null,
      "outputs": [
        {
          "output_type": "execute_result",
          "data": {
            "text/plain": [
              "(2690,)"
            ]
          },
          "metadata": {
            "tags": []
          },
          "execution_count": 86
        }
      ]
    },
    {
      "cell_type": "code",
      "metadata": {
        "id": "RGoiG7Xqsoxx"
      },
      "source": [
        "#Inserting the clustering model into our RFM table\n",
        "\n",
        "customers['Cluster'] = model.labels_\n",
        "customers.groupby('Cluster').agg({\n",
        "    'Recency':'mean',\n",
        "    'Frequency':'mean',\n",
        "    'MonetaryValue':['mean','count']\n",
        "}).round(1)\n",
        "customers"
      ],
      "execution_count": null,
      "outputs": []
    },
    {
      "cell_type": "code",
      "metadata": {
        "id": "QrN4wLyTsoxy"
      },
      "source": [
        "#Now that we have implemented the plot we must take a look at how our clusters diverge\n",
        "#In order to do that we must use the snake plot"
      ],
      "execution_count": null,
      "outputs": []
    },
    {
      "cell_type": "code",
      "metadata": {
        "id": "bJ1g_EI4soxy"
      },
      "source": [
        "#Creating the dataframe\n",
        "dts2_normalized = pd.DataFrame(dts2_normalized, columns=['Recency','Frequency','MonetaryValue'])\n",
        "dts2_normalized['ID'] = customers.index\n",
        "dts2_normalized['Cluster'] = model.labels_\n",
        "\n",
        "#Melting the data\n",
        "dts_nor_melt = pd.melt(dts2_normalized.reset_index(),\n",
        "                      id_vars=['ID','Cluster'],\n",
        "                      value_vars=['Frequency','MonetaryValue','Recency'],\n",
        "                      var_name='Attribute',\n",
        "                      value_name='Value')\n",
        "dts_nor_melt.head()\n",
        "\n",
        "\n",
        "#Visualizing the data\n",
        "sn.lineplot('Attribute','Value',hue='Cluster',data=dts_nor_melt)"
      ],
      "execution_count": null,
      "outputs": []
    },
    {
      "cell_type": "code",
      "metadata": {
        "id": "PO-tm0Egsoxy"
      },
      "source": [
        "#Looking at the graph, we see that the Cluster 2 buys with more frequency and has a higher value.\n",
        "#Cluster 2 could be a Loyal Customer\n",
        "\n",
        "#The cluster 0 is less frequent, has less value and but they buy recently.\n",
        "#Therefore we could consider it as a New Customer that is usually less likely to buy expensive items\n",
        "#on first hand, didnt have time to have a big frequency.\n",
        "\n",
        "#The cluster 1 has all negative traits and they buy the product at the old time. It can be a\n",
        "#churned customer"
      ],
      "execution_count": null,
      "outputs": []
    }
  ]
}
